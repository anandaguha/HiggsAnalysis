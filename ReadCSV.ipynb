{
 "cells": [
  {
   "cell_type": "code",
   "execution_count": null,
   "metadata": {},
   "outputs": [],
   "source": [
    "import pandas as pd\n",
    "import numpy \n",
    "from glob import glob\n",
    "import os\n",
    "import csv\n",
    "import matplotlib.pyplot as plt\n"
   ]
  },
  {
   "cell_type": "code",
   "execution_count": null,
   "metadata": {},
   "outputs": [],
   "source": [
    "#the directories will be split into energy levels and order in pertubation *if* it is LO in the pertubation \n",
    "#then there will be another splitting based on as 130 or 118\n",
    "\n",
    "#for the file structure H_PDFValue_smur_smuf_smallx(0,1)_#particleDecayedInto (0,1,2,3)"
   ]
  },
  {
   "cell_type": "code",
   "execution_count": null,
   "metadata": {},
   "outputs": [],
   "source": [
    "# data = pd.read_csv(\"/home/ananda/Documents/UCSB/Research_Particle_Phys/afiles/ggHiggs/results_PDF_NNPDF31_lo_as_0118_EFT_NoSmallX.csv\")\n",
    "#files will be stored in .../resultsHiggs/Energy_#LO_asValue/fileName (for 1300)\n",
    "#fileName will be #PDFValue_smur_smuf_smallx(0,1)_#particleDecayedInto (0,1,2,3)\n"
   ]
  },
  {
   "cell_type": "code",
   "execution_count": 69,
   "metadata": {},
   "outputs": [],
   "source": [
    "#all in one loop make everything\n",
    "basePathInName = '/home/ananda/Documents/UCSB/Research_Particle_Phys/afiles/ggHiggs/'\n",
    "basePathOutName =  \"/home/ananda/Documents/UCSB/Research_Particle_Phys/results/\"\n",
    "for i in range (2): #range goes from 0 to i-1 for range(i)\n",
    "    if i == 0: #this is the LO_130 at the 1300 nrg\n",
    "        pathInputName = \"SQRT1300/QCDOrder_LO/**/*as_0130*.csv\"\n",
    "        pathResultName = \"SQRT1300/LO/as_130\"\n",
    "    if i == 1: #this is the LO_118 at the 1300 nrg\n",
    "        pathInputName = \"SQRT1300/QCDOrder_LO/**/*as_0118*.csv\"\n",
    "        pathResultName = \"SQRT1300/LO/as_118\"\n",
    "    if i == 2: #this is the NLO at 1300 nrg\n",
    "        pathInputName = \"SQRT1300/QCDOrder_NLO/**/*.csv\"\n",
    "        pathResultName = \"SQRT1300/NLO\"\n",
    "    if i == 3: #this is the NNLO at 1300 nrg\n",
    "        pathInputName = \"SQRT1300/QCDOrder_NNLO/**/*.csv\"\n",
    "        pathResultName = \"SQRT1300/NNLO\"\n",
    "    if i == 4: #this is the N3LO at 1300 nrg\n",
    "        pathInputName = \"SQRT1300/QCDOrder_N3LO/**/*.csv\"\n",
    "        pathResultName = \"SQRT1300/N3LO\"\n",
    "        \n",
    "        \n",
    "        \n",
    "    createHists(basePathInName+pathInputName,basePathOutName+pathResultName)\n",
    "            "
   ]
  },
  {
   "cell_type": "code",
   "execution_count": 67,
   "metadata": {},
   "outputs": [],
   "source": [
    "def createHists(inputPath, outputPath):\n",
    "    seperateData = glob(inputPath,recursive=True)\n",
    "\n",
    "    combinedData = pd.concat([pd.read_csv(f) for f in seperateData], ignore_index=True)\n",
    "\n",
    "    data = combinedData.to_numpy()\n",
    "    \n",
    "    massCharm = data[:,2]\n",
    "    massBottom = data[:,3]\n",
    "    smallX = data[:,5]\n",
    "    mH = data[:,7]\n",
    "    smur = data[:,8]\n",
    "    massTop = data[:,9]\n",
    "    pdfmem = data[:,11]\n",
    "    xsection = data[:,12]\n",
    "    smuf = data[:,13]\n",
    "\n",
    "    os.makedirs(outputPath,exist_ok=True) \n",
    "    \n",
    "    files = glob(outputPath+\"/*\") #this is for removing all the files that were created since I append to files no rewrite\n",
    "    for f in files:\n",
    "        os.remove(f)\n",
    "\n",
    "\n",
    "    for idx,j in enumerate(mH):\n",
    "        fileName = \"/H_\"\n",
    "        fileName = fileName + str(pdfmem[idx])+\"_\" + str(smur[idx]) +\"_\"+ str(smuf[idx])+\"_\"\n",
    "\n",
    "        if smallX[idx]:\n",
    "            fileName = fileName + \"1_\"\n",
    "        else:\n",
    "            fileName = fileName + \"0_\"\n",
    "\n",
    "        if massTop[idx] == -1:\n",
    "            fileName = fileName + \"0.csv\"\n",
    "        elif massBottom[idx] == -1:\n",
    "            fileName = fileName + \"1.csv\"\n",
    "        elif massCharm[idx] == -1:\n",
    "            fileName = fileName + \"2.csv\"\n",
    "        else:\n",
    "            fileName = fileName + \"3.csv\"\n",
    "\n",
    "        file = open(outputPath+fileName,'a+')\n",
    "#         if (idx == 30):\n",
    "#             print(f\"This is the file name: {output+fileName}\\nThis is the cross section: {xsection[idx]}\\nThis is the Higgs Mass {j}\")\n",
    "#             print (dataLO1300_130[idx])\n",
    "        \n",
    "        point = [j,xsection[idx]]\n",
    "        writer = csv.writer(file)\n",
    "        writer.writerow(point)\n",
    "\n",
    "    #     file.write\n",
    "\n"
   ]
  },
  {
   "cell_type": "code",
   "execution_count": null,
   "metadata": {},
   "outputs": [],
   "source": [
    "#LO in 'as' value of 130 with E of 13000 (using this one to test with you can ignore the rest)\n",
    "seperateLO1300_130 = glob('/home/ananda/Documents/UCSB/Research_Particle_Phys/afiles/ggHiggs/SQRT1300/QCDOrder_LO/**/*as_0130*.csv',recursive=True)\n",
    "\n",
    "LO1300_130 = pd.concat([pd.read_csv(f) for f in seperateLO1300_130 ], ignore_index=True)\n",
    "\n",
    "dataLO1300_130 = LO1300_130.to_numpy()\n"
   ]
  },
  {
   "cell_type": "code",
   "execution_count": null,
   "metadata": {},
   "outputs": [],
   "source": [
    "#LO in 'as' value of 118 with E of 13000\n",
    "seperateLO1300_118 = glob('/home/ananda/Documents/UCSB/Research_Particle_Phys/afiles/ggHiggs/SQRT1300/QCDOrder_LO/**/*as_0118*.csv',recursive=True)\n",
    "\n",
    "LO1300_118 = pd.concat([pd.read_csv(f) for f in seperateLO1300_118 ], ignore_index=True)\n",
    "\n",
    "dataLO1300_118 = LO1300_118.to_numpy()"
   ]
  },
  {
   "cell_type": "code",
   "execution_count": null,
   "metadata": {},
   "outputs": [],
   "source": [
    "#LO w/ 'as' value of 130 w/ E of 13600\n",
    "seperateLO1360_130 = glob('/home/ananda/Documents/UCSB/Research_Particle_Phys/afiles/ggHiggs/SQRT1360/QCDOrder_LO/**/*as_0130*.csv',recursive=True)\n",
    "\n",
    "LO1360_130 = pd.concat([pd.read_csv(f) for f in seperateLO1360_130 ], ignore_index=True)\n",
    "\n",
    "dataLO1360_118 = LO1360_130.to_numpy()\n"
   ]
  },
  {
   "cell_type": "code",
   "execution_count": null,
   "metadata": {},
   "outputs": [],
   "source": [
    "#LO w/ 'as' value of 118 w/ E of 13600\n",
    "seperateLO1360_118 = glob('/home/ananda/Documents/UCSB/Research_Particle_Phys/afiles/ggHiggs/SQRT1360/QCDOrder_LO/**/*as_0118*.csv',recursive=True)\n",
    "\n",
    "LO1360_118 = pd.concat([pd.read_csv(f) for f in seperateLO1360_118 ], ignore_index=True)\n",
    "\n",
    "dataLO1360_118 = LO1300_130.to_numpy()\n"
   ]
  },
  {
   "cell_type": "code",
   "execution_count": null,
   "metadata": {},
   "outputs": [],
   "source": [
    "seperateNLO1300 = glob('/home/ananda/Documents/UCSB/Research_Particle_Phys/afiles/ggHiggs/SQRT1300/QCDOrder_NLO/**/*.csv',recursive=True)\n",
    "\n",
    "NLO1300 = pd.concat([pd.read_csv(f) for f in seperateNLO1300 ], ignore_index=True)\n",
    "\n",
    "dataNLO1300 = NLO1300.to_numpy()\n"
   ]
  },
  {
   "cell_type": "code",
   "execution_count": null,
   "metadata": {},
   "outputs": [],
   "source": [
    "seperateNNLO1300 = glob('/home/ananda/Documents/UCSB/Research_Particle_Phys/afiles/ggHiggs/SQRT1300/QCDOrder_NNLO/**/*.csv',recursive=True)\n",
    "\n",
    "NNLO1300 = pd.concat([pd.read_csv(f) for f in seperateNNLO1300 ], ignore_index=True)\n",
    "\n",
    "dataNNLO1300 = NNLO1300.to_numpy()\n"
   ]
  },
  {
   "cell_type": "code",
   "execution_count": null,
   "metadata": {},
   "outputs": [],
   "source": [
    "seperateN3LO1300 = glob('/home/ananda/Documents/UCSB/Research_Particle_Phys/afiles/ggHiggs/SQRT1300/QCDOrder_N3LO/**/*.csv',recursive=True)\n",
    "\n",
    "N3LO1300 = pd.concat([pd.read_csv(f) for f in seperateN3LO1300 ], ignore_index=True)\n",
    "\n",
    "datan3LO1300 = N3LO1300.to_numpy()\n"
   ]
  },
  {
   "cell_type": "code",
   "execution_count": null,
   "metadata": {},
   "outputs": [],
   "source": [
    "seperateNLO1360 = glob('/home/ananda/Documents/UCSB/Research_Particle_Phys/afiles/ggHiggs/SQRT1360/QCDOrder_NLO/**/*.csv',recursive=True)\n",
    "\n",
    "NLO1360 = pd.concat([pd.read_csv(f) for f in seperateNLO1360 ], ignore_index=True)\n",
    "\n",
    "dataLO1360 = NLO1360.to_numpy()\n"
   ]
  },
  {
   "cell_type": "code",
   "execution_count": null,
   "metadata": {},
   "outputs": [],
   "source": [
    "seperateNNLO1360 = glob('/home/ananda/Documents/UCSB/Research_Particle_Phys/afiles/ggHiggs/SQRT1360/QCDOrder_NNLO/**/*.csv',recursive=True)\n",
    "\n",
    "NNLO1360 = pd.concat([pd.read_csv(f) for f in seperateNNLO1360 ], ignore_index=True)\n",
    "\n",
    "dataNNLO1360 = NNLO1360.to_numpy()\n"
   ]
  },
  {
   "cell_type": "code",
   "execution_count": null,
   "metadata": {},
   "outputs": [],
   "source": [
    "seperateN3LO1360 = glob('/home/ananda/Documents/UCSB/Research_Particle_Phys/afiles/ggHiggs/SQRT1360/QCDOrder_N3LO/**/*.csv',recursive=True)\n",
    "\n",
    "N3LO1360 = pd.concat([pd.read_csv(f) for f in seperateN3LO1360 ], ignore_index=True)\n",
    "\n",
    "dataN3LO1360 = N3LO1360.to_numpy()\n"
   ]
  },
  {
   "cell_type": "code",
   "execution_count": null,
   "metadata": {},
   "outputs": [],
   "source": [
    "parentDir = \"/home/ananda/Documents/UCSB/Research_Particle_Phys/results/\"\n",
    "LO1300_130 = \"SQRT1300/LO/as_130\"\n",
    "LO1300_118 = \"SQRT1300/LO/as_118\"\n",
    "NLO1300 = \"SQRT1300/NLO\"\n",
    "NNLO1300 = \"SQRT1300/NNLO\"\n",
    "N3LO1300 = \"SQRT1300/N3LO\""
   ]
  },
  {
   "cell_type": "code",
   "execution_count": null,
   "metadata": {},
   "outputs": [],
   "source": [
    "#this is for the LO1300_130 data\n",
    "LO1300_130_path = parentDir+LO1300_130\n",
    "os.makedirs(LO1300_130_path,exist_ok=True)   \n",
    "massCharm = dataLO1300_130[:,2]\n",
    "massBottom = dataLO1300_130[:,3]\n",
    "smallX = dataLO1300_130[:,5]\n",
    "mH = dataLO1300_130[:,7]\n",
    "smur = dataLO1300_130[:,8]\n",
    "massTop = dataLO1300_130[:,9]\n",
    "xsection = dataLO1300_130[:,12]\n",
    "smuf = dataLO1300_130[:,13]"
   ]
  },
  {
   "cell_type": "code",
   "execution_count": null,
   "metadata": {},
   "outputs": [],
   "source": [
    "for i in range(5):\n",
    "    if i == 0: #1300LO_130\n",
    "        \n",
    "        #making the result dir\n",
    "        LO1300_130_path = parentDir+LO1300_130\n",
    "        os.makedirs(LO1300_130_path,exist_ok=True)   \n",
    "        \n",
    "        #making sure the result dir is empty\n",
    "        files = glob(LO1300_130_path+\"/*\")\n",
    "        for f in files:\n",
    "            os.remove(f)\n",
    "        \n",
    "        #getting the data for 1300_130\n",
    "        massCharm = dataLO1300_130[:,2]\n",
    "        massBottom = dataLO1300_130[:,3]\n",
    "        smallX = dataLO1300_130[:,5]\n",
    "        mH = dataLO1300_130[:,7]\n",
    "        smur = dataLO1300_130[:,8]\n",
    "        massTop = dataLO1300_130[:,9]\n",
    "        xsection = dataLO1300_130[:,12]\n",
    "        smuf = dataLO1300_130[:,13]\n",
    "        \n",
    "        \n",
    "        #writing the data to the right file\n",
    "        for idx,j in enumerate(mH):\n",
    "            fileName = \"/H_\"\n",
    "            fileName = fileName + \"0_\" + str(smur[idx]) +\"_\"+ str(smuf[idx])+\"_\" #the 0_ is only true for  13000 energy\n",
    "            if smallX[idx]:\n",
    "                fileName = fileName + \"1_\"\n",
    "            else:\n",
    "                fileName = fileName + \"0_\"\n",
    "\n",
    "            if massTop[idx] == -1:\n",
    "                fileName = fileName + \"0.csv\"\n",
    "            elif massBottom[idx] == -1:\n",
    "                fileName = fileName + \"1.csv\"\n",
    "            elif massCharm[idx] == -1:\n",
    "                fileName = fileName + \"2.csv\"\n",
    "            else:\n",
    "                fileName = fileName + \"3.csv\"\n",
    "\n",
    "            file = open(LO1300_130_path+fileName,'a+')\n",
    "            if (idx == 30):\n",
    "                print(f\"This is the file name: {LO1300_130_path+fileName}\\nThis is the cross section: {xsection[idx]}\\nThis is the Higgs Mass {j}\")\n",
    "                print (dataLO1300_130[idx])\n",
    "            point = [j,xsection[idx]]\n",
    "            writer = csv.writer(file)\n",
    "            writer.writerow(point)\n",
    "    \n",
    "#     file.write\n",
    "    elif i == 1: #1300LO_118\n",
    "        \n",
    "        #making the result dir\n",
    "        LO1300_118_path = parentDir+LO1300_118\n",
    "        os.makedirs(LO1300_118_path,exist_ok=True)   \n",
    "        \n",
    "        #making sure the result dir is empty\n",
    "        files = glob(LO1300_118_path+\"/*\")\n",
    "        for f in files:\n",
    "            os.remove(f)\n",
    "        \n",
    "        #getting the data for 1300_118\n",
    "        massCharm = dataLO1300_118[:,2]\n",
    "        massBottom = dataLO1300_118[:,3]\n",
    "        smallX = dataLO1300_118[:,5]\n",
    "        mH = dataLO1300_118[:,7]\n",
    "        smur = dataLO1300_118[:,8]\n",
    "        massTop = dataLO1300_118[:,9]\n",
    "        xsection = dataLO1300_118[:,12]\n",
    "        smuf = dataLO1300_118[:,13]\n",
    "        \n",
    "        \n",
    "        #writing the data to the right file\n",
    "        for idx,j in enumerate(mH):\n",
    "            fileName = \"/H_\"\n",
    "            fileName = fileName + \"0_\" + str(smur[idx]) +\"_\"+ str(smuf[idx])+\"_\" #the 0_ is only true for LO\n",
    "            if smallX[idx]:\n",
    "                fileName = fileName + \"1_\"\n",
    "            else:\n",
    "                fileName = fileName + \"0_\"\n",
    "\n",
    "            if massTop[idx] == -1:\n",
    "                fileName = fileName + \"0.csv\"\n",
    "            elif massBottom[idx] == -1:\n",
    "                fileName = fileName + \"1.csv\"\n",
    "            elif massCharm[idx] == -1:\n",
    "                fileName = fileName + \"2.csv\"\n",
    "            else:\n",
    "                fileName = fileName + \"3.csv\"\n",
    "\n",
    "            file = open(LO1300_118_path+fileName,'a+')\n",
    "            if (idx == 30):\n",
    "                print(f\"This is the file name: {LO1300_130_path+fileName}\\nThis is the cross section: {xsection[idx]}\\nThis is the Higgs Mass {j}\")\n",
    "                print (dataLO1300_130[idx])\n",
    "            point = [j,xsection[idx]]\n",
    "            writer = csv.writer(file)\n",
    "            writer.writerow(point)\n",
    "\n",
    "    elif i == 2: #1300NLO\n",
    "    elif i == 3: #1300NNLO\n",
    "    elif i == 4: #1300N3LO\n",
    "    "
   ]
  },
  {
   "cell_type": "code",
   "execution_count": null,
   "metadata": {},
   "outputs": [],
   "source": [
    "#TODO\n",
    "# #this is for the LO1300_118 data\n",
    "# LO1300_130_path = parentDir+LO1300_130\n",
    "# os.makedirs(LO1300_130_path,exist_ok=True)   \n",
    "# massCharm = dataLO1300_130[:,2]\n",
    "# massBottom = dataLO1300_130[:,3]\n",
    "# smallX = dataLO1300_130[:,5]\n",
    "# mH = dataLO1300_130[:,7]\n",
    "# smur = dataLO1300_130[:,8]\n",
    "# massTop = dataLO1300_130[:,9]\n",
    "# xsection = dataLO1300_130[:,12]\n",
    "# smuf = dataLO1300_130[:,13]"
   ]
  },
  {
   "cell_type": "code",
   "execution_count": null,
   "metadata": {},
   "outputs": [],
   "source": [
    "#this is for the NLO1300 data\n",
    "NLO1300_path = parentDir+NLO1300\n",
    "os.makedirs(NLO1300_path,exist_ok=True)   \n",
    "NmassCharm = dataNLO1300[:,2]\n",
    "NmassBottom = dataNLO1300[:,3]\n",
    "NsmallX = dataNLO1300[:,5]\n",
    "NmH = dataNLO1300[:,7]\n",
    "Nsmur = dataNLO1300[:,8]\n",
    "NmassTop = dataNLO1300[:,9]\n",
    "Nxsection = dataNLO1300[:,12]\n",
    "Nsmuf = dataNLO1300[:,13]"
   ]
  },
  {
   "cell_type": "code",
   "execution_count": null,
   "metadata": {},
   "outputs": [],
   "source": [
    "#this is for the NNLO1300 data\n",
    "NLO1300_path = parentDir+NNLO1300\n",
    "os.makedirs(NLO1300_path,exist_ok=True)   \n",
    "massCharm = dataLO1300_130[:,2]\n",
    "massBottom = dataLO1300_130[:,3]\n",
    "smallX = dataLO1300_130[:,5]\n",
    "mH = dataLO1300_130[:,7]\n",
    "smur = dataLO1300_130[:,8]\n",
    "massTop = dataLO1300_130[:,9]\n",
    "xsection = dataLO1300_130[:,12]\n",
    "smuf = dataLO1300_130[:,13]"
   ]
  },
  {
   "cell_type": "code",
   "execution_count": null,
   "metadata": {},
   "outputs": [],
   "source": [
    "#this is for the N3LO1300 data\n",
    "LO1300_130_path = parentDir+N3LO1300\n",
    "os.makedirs(LO1300_130_path,exist_ok=True)   \n",
    "massCharm = dataLO1300_130[:,2]\n",
    "massBottom = dataLO1300_130[:,3]\n",
    "smallX = dataLO1300_130[:,5]\n",
    "mH = dataLO1300_130[:,7]\n",
    "smur = dataLO1300_130[:,8]\n",
    "massTop = dataLO1300_130[:,9]\n",
    "xsection = dataLO1300_130[:,12]\n",
    "smuf = dataLO1300_130[:,13]"
   ]
  },
  {
   "cell_type": "code",
   "execution_count": null,
   "metadata": {},
   "outputs": [],
   "source": [
    "#for the file structure H_PDFValue_smur_smuf_smallx(0,1)_#particleDecayedInto (0,1,2,3)\n",
    "files = glob(LO1300_130_path+\"/*\") #this is for removing all the files that were created since I append to files no rewrite\n",
    "for f in files:\n",
    "    os.remove(f)\n",
    "    \n",
    "    \n",
    "for idx,j in enumerate(mH):\n",
    "    fileName = \"/H_\"\n",
    "    fileName = fileName + \"0_\" + str(smur[idx]) +\"_\"+ str(smuf[idx])+\"_\" #the 0_ is only true for  13000 energy\n",
    "    if smallX[idx]:\n",
    "        fileName = fileName + \"1_\"\n",
    "    else:\n",
    "        fileName = fileName + \"0_\"\n",
    "        \n",
    "    if massTop[idx] == -1:\n",
    "        fileName = fileName + \"0.csv\"\n",
    "    elif massBottom[idx] == -1:\n",
    "        fileName = fileName + \"1.csv\"\n",
    "    elif massCharm[idx] == -1:\n",
    "        fileName = fileName + \"2.csv\"\n",
    "    else:\n",
    "        fileName = fileName + \"3.csv\"\n",
    "        \n",
    "    file = open(LO1300_130_path+fileName,'a+')\n",
    "    if (idx == 30):\n",
    "        print(f\"This is the file name: {LO1300_130_path+fileName}\\nThis is the cross section: {xsection[idx]}\\nThis is the Higgs Mass {j}\")\n",
    "        print (dataLO1300_130[idx])\n",
    "    point = [j,xsection[idx]]\n",
    "    writer = csv.writer(file)\n",
    "    writer.writerow(point)\n",
    "    \n",
    "#     file.write"
   ]
  },
  {
   "cell_type": "code",
   "execution_count": null,
   "metadata": {},
   "outputs": [],
   "source": [
    "#for the file structure H_PDFValue_smur_smuf_smallx(0,1)_#particleDecayedInto (0,1,2,3)\n",
    "files = glob(LO1300_130_path+\"/*\") #this is for removing all the files that were created since I append to files no rewrite\n",
    "for f in files:\n",
    "    os.remove(f)\n",
    "    \n",
    "    \n",
    "for idx,j in enumerate(mH):\n",
    "    fileName = \"/H_\"\n",
    "    fileName = fileName + \"0_\" + str(smur[idx]) +\"_\"+ str(smuf[idx])+\"_\" #the 0_ is only true for  13000 energy\n",
    "    if smallX[idx]:\n",
    "        fileName = fileName + \"1_\"\n",
    "    else:\n",
    "        fileName = fileName + \"0_\"\n",
    "        \n",
    "    if massTop[idx] == -1:\n",
    "        fileName = fileName + \"0.csv\"\n",
    "    elif massBottom[idx] == -1:\n",
    "        fileName = fileName + \"1.csv\"\n",
    "    elif massCharm[idx] == -1:\n",
    "        fileName = fileName + \"2.csv\"\n",
    "    else:\n",
    "        fileName = fileName + \"3.csv\"\n",
    "        \n",
    "    file = open(LO1300_130_path+fileName,'a+')\n",
    "    if (idx == 30):\n",
    "        print(f\"This is the file name: {LO1300_130_path+fileName}\\nThis is the cross section: {xsection[idx]}\\nThis is the Higgs Mass {j}\")\n",
    "        print (dataLO1300_130[idx])\n",
    "    point = [j,xsection[idx]]\n",
    "    writer = csv.writer(file)\n",
    "    writer.writerow(point)\n",
    "    \n",
    "#     file.write"
   ]
  },
  {
   "cell_type": "code",
   "execution_count": null,
   "metadata": {},
   "outputs": [],
   "source": []
  },
  {
   "cell_type": "code",
   "execution_count": null,
   "metadata": {},
   "outputs": [],
   "source": [
    "x = []\n",
    "y = []\n",
    "\n",
    "with open('/home/ananda/Documents/UCSB/Research_Particle_Phys/results/SQRT1300/LO/as_130/H_0_0.5_0.5_0_1.csv','r') as csvfile:\n",
    "    lines = csv.reader(csvfile, delimiter=',')\n",
    "    for row in lines:\n",
    "        x.append(row[0])\n",
    "        y.append(row[1])\n",
    "for idx,val in enumerate(x):\n",
    "    if val == \"125\":\n",
    "        print(y[idx])\n",
    "        print(x[idx])\n",
    "    if val == \"1000\":\n",
    "        print(y[idx])\n",
    "        print(x[idx])\n",
    "\n",
    "  \n"
   ]
  },
  {
   "cell_type": "code",
   "execution_count": null,
   "metadata": {},
   "outputs": [],
   "source": [
    "# new_x, new_y = zip(*sorted(zip(x, y))) #this is used to sort x values (not needed but nice to know)\n",
    "plt.plot(numpy.array(list(x),dtype=numpy.float32), numpy.array(list(y),dtype=numpy.float32),'o', color = 'g', marker = \"o\",label = \"Higss mass\")\n",
    "  \n",
    "# plt.xticks(rotation = 25)\n",
    "plt.xlabel('mass Higgs')\n",
    "plt.ylabel('cross section')\n",
    "plt.title('H_0_0.5_0.5_0_1', fontsize = 10)\n",
    "# plt.grid()\n",
    "plt.legend()\n",
    "plt.show()"
   ]
  },
  {
   "cell_type": "code",
   "execution_count": null,
   "metadata": {},
   "outputs": [],
   "source": [
    "plt.plot(numpy.array(list(x),dtype=numpy.float32), numpy.array(list(y),dtype=numpy.float32),'o', color = 'g', marker = \"o\",label = \"Higss mass\")\n",
    "  \n",
    "# plt.xticks(rotation = 25)\n",
    "plt.xlabel('mass Higgs')\n",
    "plt.ylabel('cross section')\n",
    "plt.title('H_0_0.5_0.5_0_1', fontsize = 10)\n",
    "# plt.grid()\n",
    "plt.legend()\n",
    "plt.yscale(\"log\")\n",
    "plt.show()"
   ]
  },
  {
   "cell_type": "code",
   "execution_count": null,
   "metadata": {},
   "outputs": [],
   "source": [
    "plt.plot(numpy.array(list(x),dtype=numpy.float32), numpy.array(list(y),dtype=numpy.float32),'o', color = 'g', marker = \"o\",label = \"Higss mass\")\n",
    "  \n",
    "# plt.xticks(rotation = 25)\n",
    "plt.xlabel('mass Higgs')\n",
    "plt.ylabel('cross section')\n",
    "plt.title('H_0_0.5_0.5_0_1', fontsize = 10)\n",
    "# plt.grid()\n",
    "plt.legend()\n",
    "plt.yscale(\"log\")\n",
    "plt.xlim(0,1300)\n",
    "plt.show()"
   ]
  },
  {
   "cell_type": "code",
   "execution_count": null,
   "metadata": {},
   "outputs": [],
   "source": [
    "\n",
    "print(data)\n",
    "array = data[0:1]"
   ]
  },
  {
   "cell_type": "code",
   "execution_count": null,
   "metadata": {},
   "outputs": [],
   "source": [
    "array[0:2]"
   ]
  },
  {
   "cell_type": "code",
   "execution_count": null,
   "metadata": {},
   "outputs": [],
   "source": [
    "dataNp = data.to_numpy()"
   ]
  },
  {
   "cell_type": "code",
   "execution_count": null,
   "metadata": {},
   "outputs": [],
   "source": [
    "print(dataNp[:,2])"
   ]
  },
  {
   "cell_type": "code",
   "execution_count": null,
   "metadata": {},
   "outputs": [],
   "source": [
    "dataNp"
   ]
  }
 ],
 "metadata": {
  "kernelspec": {
   "display_name": "Python 3",
   "language": "python",
   "name": "python3"
  },
  "language_info": {
   "codemirror_mode": {
    "name": "ipython",
    "version": 3
   },
   "file_extension": ".py",
   "mimetype": "text/x-python",
   "name": "python",
   "nbconvert_exporter": "python",
   "pygments_lexer": "ipython3",
   "version": "3.8.5"
  }
 },
 "nbformat": 4,
 "nbformat_minor": 4
}
